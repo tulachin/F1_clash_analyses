{
 "cells": [
  {
   "cell_type": "code",
   "execution_count": 1,
   "id": "138c7dfb",
   "metadata": {},
   "outputs": [],
   "source": [
    "import numpy as np\n",
    "import math\n",
    "import pandas as pd\n",
    "import seaborn as sns\n",
    "import matplotlib.pyplot as plt\n",
    "from itertools import product\n",
    "from tqdm.notebook import tqdm, trange\n",
    "# import pulp"
   ]
  },
  {
   "cell_type": "code",
   "execution_count": 2,
   "id": "f1d27ca4",
   "metadata": {},
   "outputs": [],
   "source": [
    "pd.set_option('display.max_colwidth', None)"
   ]
  },
  {
   "cell_type": "code",
   "execution_count": 3,
   "id": "b920c304",
   "metadata": {},
   "outputs": [],
   "source": [
    "brakes = pd.read_csv(\"../data/brakes.csv\")\n",
    "gearbox = pd.read_csv(\"../data/gearbox.csv\")\n",
    "rear_wing = pd.read_csv(\"../data/rear_wing.csv\")\n",
    "front_wing = pd.read_csv(\"../data/front_wing.csv\")\n",
    "suspension = pd.read_csv(\"../data/suspension.csv\")\n",
    "engine = pd.read_csv(\"../data/engine.csv\")"
   ]
  },
  {
   "cell_type": "code",
   "execution_count": 4,
   "id": "1d2f7244",
   "metadata": {
    "scrolled": true
   },
   "outputs": [],
   "source": [
    "parts_list = [brakes, gearbox, rear_wing, front_wing, suspension, engine]\n",
    "all_parts = pd.concat(parts_list)\n",
    "trait_list = [\"Power\", \"Aero\", \"Grip\", \"Reliability\", \"Pit Time\"]"
   ]
  },
  {
   "cell_type": "code",
   "execution_count": 5,
   "id": "5ddeda8e",
   "metadata": {},
   "outputs": [],
   "source": [
    "index_list = [list(brakes.index), list(gearbox.index), list(rear_wing.index),\n",
    "              list(front_wing.index), list(suspension.index), list(engine.index)]\n",
    "index_combinations = product(*index_list)\n",
    "tunes = []\n",
    "da_tunes = []"
   ]
  },
  {
   "cell_type": "code",
   "execution_count": null,
   "id": "872ab529",
   "metadata": {},
   "outputs": [
    {
     "data": {
      "application/vnd.jupyter.widget-view+json": {
       "model_id": "ad0a9454ef184e50b30ed4e237529d5e",
       "version_major": 2,
       "version_minor": 0
      },
      "text/plain": [
       "0it [00:00, ?it/s]"
      ]
     },
     "metadata": {},
     "output_type": "display_data"
    }
   ],
   "source": [
    "for combination in tqdm(index_combinations):\n",
    "    tune_table = []\n",
    "    part_names = []\n",
    "    \n",
    "    for i in range(len(combination)):\n",
    "        part_numbers = parts_list[i].loc[combination[i], trait_list]\n",
    "        part_name = parts_list[i].loc[combination[i], \"Part\"]\n",
    "        tune_table.append(part_numbers)\n",
    "        part_names.append(part_name)\n",
    "    \n",
    "    tune = pd.DataFrame(tune_table).sum()\n",
    "    results = {'Parts': part_names,\n",
    "               'Power': tune[0],\n",
    "               'Aero': tune[1],\n",
    "               'Grip': tune[2],\n",
    "               'Reliability': tune[3],\n",
    "               'Pit_Time': tune[4]}\n",
    "    \n",
    "    tunes.append(results)\n",
    "    \n",
    "tunes = pd.DataFrame(tunes)\n",
    "tunes.to_csv(\"../data/current_tunes.csv\", index=False)"
   ]
  },
  {
   "cell_type": "markdown",
   "id": "bc51b8ed",
   "metadata": {},
   "source": [
    "# Use notebook from here on if looking for tunes"
   ]
  },
  {
   "cell_type": "code",
   "execution_count": null,
   "id": "85a2e2cc",
   "metadata": {},
   "outputs": [],
   "source": [
    "setups = pd.read_csv(\"../data/current_tunes.csv\")"
   ]
  },
  {
   "cell_type": "markdown",
   "id": "f28a2f86",
   "metadata": {},
   "source": [
    "### Specific tunes/setups"
   ]
  },
  {
   "cell_type": "code",
   "execution_count": null,
   "id": "fa7e46f5",
   "metadata": {},
   "outputs": [],
   "source": [
    "# This formula comes from TR The Flash's spreadsheet pinned on Discord\n",
    "setups['setup_MM_value'] = 3*(setups['Power']+setups['Aero']+setups['Grip']+setups['Reliability']) + 90*(6-setups['Pit_Time'])\n",
    "\n",
    "# Overall strength of the car setup\n",
    "setups['PAGR'] = setups['Power']+setups['Aero']+setups['Grip']+setups['Reliability']\n",
    "\n",
    "# The presumed two most important stats for the car setup\n",
    "setups['PG'] = setups['Power']+setups['Grip']"
   ]
  },
  {
   "cell_type": "code",
   "execution_count": null,
   "id": "3f4aa0c8",
   "metadata": {
    "scrolled": false
   },
   "outputs": [],
   "source": [
    "# Filtering setups to only include those above a certain percentile in overall stats\n",
    "f = setups['PAGR'] > np.percentile(setups['PAGR'], 99.99)\n",
    "\n",
    "# Displaying table and sorting in descending order of overall stats\n",
    "setups.loc[f].sort_values(by='PAGR', ascending=False)"
   ]
  },
  {
   "cell_type": "markdown",
   "id": "7da54b86",
   "metadata": {},
   "source": [
    "# Drivers"
   ]
  },
  {
   "cell_type": "code",
   "execution_count": null,
   "id": "0095060f",
   "metadata": {},
   "outputs": [],
   "source": [
    "drivers = pd.read_csv(\"../data/current_drivers.csv\")\n",
    "drivers['wet_quali'] = drivers['Overtaking']+drivers['Defending']+drivers['Fuel']+drivers['Tyre']+drivers['Rain']\n",
    "drivers['dry_quali'] = drivers['Overtaking']+drivers['Defending']+drivers['Fuel']+drivers['Tyre']\n",
    "drivers['wet_race'] = drivers['Overtaking']+drivers['Defending']+drivers['Consistency']+drivers['Fuel']+drivers['Tyre']+drivers['Rain']\n",
    "drivers['dry_race'] = drivers['Overtaking']+drivers['Defending']+drivers['Consistency']+drivers['Fuel']+drivers['Tyre']\n",
    "drivers['conservators'] = drivers['Fuel']+drivers['Tyre']"
   ]
  },
  {
   "cell_type": "code",
   "execution_count": null,
   "id": "ddc14b7c",
   "metadata": {},
   "outputs": [],
   "source": [
    "g = drivers['Consistency'] > np.percentile(drivers['Consistency'], 50)\n",
    "drivers.loc[g].sort_values(by='wet_quali', ascending=False)"
   ]
  },
  {
   "cell_type": "markdown",
   "id": "812a64a5",
   "metadata": {},
   "source": [
    "#### Testing idea of weighting driver stats according to CursedbyFlame's opinion"
   ]
  },
  {
   "cell_type": "code",
   "execution_count": null,
   "id": "44655f0b",
   "metadata": {},
   "outputs": [],
   "source": [
    "# drivers = pd.read_csv(\"../data/current_drivers.csv\")\n",
    "# drivers['for_duels'] = (80*drivers['Overtaking']+30*drivers['Consistency']+60*drivers['Fuel']+70*drivers['Tyre'])/240\n",
    "# drivers['dry_GP'] = (80*drivers['Overtaking']+60*drivers['Consistency']+60*drivers['Fuel']+70*drivers['Tyre'])/270\n",
    "# drivers['wet_GP'] = (60*drivers['Overtaking']+60*drivers['Consistency']+70*drivers['Fuel']+80*drivers['Tyre']+100*drivers['Rain'])/370"
   ]
  },
  {
   "cell_type": "code",
   "execution_count": null,
   "id": "d7415c6c",
   "metadata": {},
   "outputs": [],
   "source": [
    "# drivers.sort_values(by='for_duels', ascending=False)"
   ]
  },
  {
   "cell_type": "markdown",
   "id": "cb1c16b8",
   "metadata": {},
   "source": [
    "Difference between PAG vs. PAGR?"
   ]
  },
  {
   "cell_type": "code",
   "execution_count": null,
   "id": "808bc863",
   "metadata": {},
   "outputs": [],
   "source": [
    "PAG = pd.read_csv(\"../data/test_max_PAG.csv\")\n",
    "PAGR = pd.read_csv(\"../data/test_max_PAGR.csv\")"
   ]
  },
  {
   "cell_type": "code",
   "execution_count": null,
   "id": "20be5faf",
   "metadata": {},
   "outputs": [],
   "source": [
    "PAGR"
   ]
  },
  {
   "cell_type": "markdown",
   "id": "39d0c4e3",
   "metadata": {},
   "source": [
    "For Russell's qualifying?"
   ]
  },
  {
   "cell_type": "code",
   "execution_count": null,
   "id": "09d81bee",
   "metadata": {},
   "outputs": [],
   "source": [
    "sns.histplot(list(PAG['quali_Russell_10']), bins=10, color='g')\n",
    "sns.histplot(list(PAGR['quali_Russell_10']), bins=10, color='r')\n",
    "plt.show()"
   ]
  },
  {
   "cell_type": "markdown",
   "id": "81b1ec5f",
   "metadata": {},
   "source": [
    "Sainz?"
   ]
  },
  {
   "cell_type": "code",
   "execution_count": null,
   "id": "d67c268a",
   "metadata": {},
   "outputs": [],
   "source": [
    "sns.histplot(list(PAG['quali_Sainz_8']), bins=10, color='g')\n",
    "sns.histplot(list(PAGR['quali_Sainz_8']), bins=10, color='r')\n",
    "plt.show()"
   ]
  },
  {
   "cell_type": "markdown",
   "id": "374038bc",
   "metadata": {},
   "source": [
    "What about points?"
   ]
  },
  {
   "cell_type": "code",
   "execution_count": null,
   "id": "8662cb83",
   "metadata": {},
   "outputs": [],
   "source": [
    "sns.histplot(list(PAG['points']), bins=10, color='g')\n",
    "sns.histplot(list(PAGR['points']), bins=10, color='r')\n",
    "plt.show()"
   ]
  },
  {
   "cell_type": "markdown",
   "id": "74017723",
   "metadata": {},
   "source": [
    "Let's hear it for finishing positions! RUSSELL"
   ]
  },
  {
   "cell_type": "code",
   "execution_count": null,
   "id": "3fd4f254",
   "metadata": {},
   "outputs": [],
   "source": [
    "sns.histplot(list(PAG['pos_Russell_10']), bins='fd', color='b')\n",
    "sns.histplot(list(PAGR['pos_Russell_10']), bins='fd', color='r', alpha=0.9)\n",
    "plt.show()"
   ]
  },
  {
   "cell_type": "code",
   "execution_count": null,
   "id": "95288716",
   "metadata": {},
   "outputs": [],
   "source": [
    "sns.histplot(list(PAG['pos_Sainz_8']), bins='fd', color='b')\n",
    "sns.histplot(list(PAGR['pos_Sainz_8']), bins='fd', color='r', alpha=0.9)\n",
    "plt.show()"
   ]
  },
  {
   "cell_type": "markdown",
   "id": "2ac5f614",
   "metadata": {},
   "source": [
    "Russell vs. Hamilton for dry races!"
   ]
  },
  {
   "cell_type": "code",
   "execution_count": null,
   "id": "a630ef3a",
   "metadata": {},
   "outputs": [],
   "source": [
    "PAGR_HAM = pd.read_csv(\"../data/test_max_PAGR_HAM.csv\")"
   ]
  },
  {
   "cell_type": "code",
   "execution_count": null,
   "id": "074627b5",
   "metadata": {},
   "outputs": [],
   "source": [
    "PAGR_HAM"
   ]
  },
  {
   "cell_type": "code",
   "execution_count": null,
   "id": "d1bb5ec8",
   "metadata": {},
   "outputs": [],
   "source": [
    "sns.histplot(list(PAGR_HAM['quali_Hamilton_6']), bins=20, color='g')\n",
    "sns.histplot(list(PAGR['quali_Russell_10']), bins=20, color='r')\n",
    "plt.show()"
   ]
  },
  {
   "cell_type": "code",
   "execution_count": null,
   "id": "0dc29dfb",
   "metadata": {},
   "outputs": [],
   "source": [
    "sns.histplot(list(PAGR_HAM['points']), bins=20, color='g')\n",
    "sns.histplot(list(PAGR['points']), bins=20, color='r', alpha=0.25)\n",
    "plt.show()"
   ]
  },
  {
   "cell_type": "code",
   "execution_count": null,
   "id": "4910cb33",
   "metadata": {},
   "outputs": [],
   "source": [
    "sns.histplot(list(PAGR_HAM['pos_Hamilton_6']), bins=20, color='b')\n",
    "sns.histplot(list(PAGR['pos_Russell_10']), bins=20, color='r', alpha=0.9)\n",
    "plt.show()"
   ]
  },
  {
   "cell_type": "code",
   "execution_count": null,
   "id": "75a68716",
   "metadata": {},
   "outputs": [],
   "source": [
    "sns.histplot([33,47,47,42,35,43,47,44,47,47])\n",
    "plt.show()"
   ]
  }
 ],
 "metadata": {
  "kernelspec": {
   "display_name": "Python 3",
   "language": "python",
   "name": "python3"
  },
  "language_info": {
   "codemirror_mode": {
    "name": "ipython",
    "version": 3
   },
   "file_extension": ".py",
   "mimetype": "text/x-python",
   "name": "python",
   "nbconvert_exporter": "python",
   "pygments_lexer": "ipython3",
   "version": "3.8.11"
  }
 },
 "nbformat": 4,
 "nbformat_minor": 5
}
